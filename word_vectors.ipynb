{
 "cells": [
  {
   "cell_type": "code",
   "execution_count": 1,
   "id": "f567cc9d",
   "metadata": {},
   "outputs": [],
   "source": [
    "import spacy\n",
    "\n"
   ]
  },
  {
   "cell_type": "code",
   "execution_count": 2,
   "id": "33fd2949",
   "metadata": {},
   "outputs": [
    {
     "name": "stdout",
     "output_type": "stream",
     "text": [
      "Collecting en-core-web-md==3.7.1\n",
      "  Downloading https://github.com/explosion/spacy-models/releases/download/en_core_web_md-3.7.1/en_core_web_md-3.7.1-py3-none-any.whl (42.8 MB)\n",
      "     ---------------------------------------- 0.0/42.8 MB ? eta -:--:--\n",
      "     ---------------------------------------- 0.0/42.8 MB ? eta -:--:--\n",
      "     ---------------------------------------- 0.0/42.8 MB ? eta -:--:--\n",
      "     ---------------------------------------- 0.0/42.8 MB 81.9 kB/s eta 0:08:42\n",
      "     --------------------------------------- 0.0/42.8 MB 131.3 kB/s eta 0:05:26\n",
      "     --------------------------------------- 0.1/42.8 MB 175.0 kB/s eta 0:04:05\n",
      "     --------------------------------------- 0.1/42.8 MB 175.0 kB/s eta 0:04:05\n",
      "     --------------------------------------- 0.1/42.8 MB 175.0 kB/s eta 0:04:05\n",
      "     --------------------------------------- 0.1/42.8 MB 228.2 kB/s eta 0:03:08\n",
      "     --------------------------------------- 0.1/42.8 MB 266.9 kB/s eta 0:02:40\n",
      "     --------------------------------------- 0.2/42.8 MB 305.7 kB/s eta 0:02:20\n",
      "     --------------------------------------- 0.2/42.8 MB 348.2 kB/s eta 0:02:03\n",
      "     --------------------------------------- 0.2/42.8 MB 411.8 kB/s eta 0:01:44\n",
      "     --------------------------------------- 0.3/42.8 MB 499.9 kB/s eta 0:01:25\n",
      "     --------------------------------------- 0.4/42.8 MB 559.1 kB/s eta 0:01:16\n",
      "     --------------------------------------- 0.5/42.8 MB 684.7 kB/s eta 0:01:02\n",
      "      -------------------------------------- 0.6/42.8 MB 865.0 kB/s eta 0:00:49\n",
      "      --------------------------------------- 0.8/42.8 MB 1.0 MB/s eta 0:00:42\n",
      "      --------------------------------------- 1.0/42.8 MB 1.2 MB/s eta 0:00:34\n",
      "     - -------------------------------------- 1.3/42.8 MB 1.5 MB/s eta 0:00:28\n",
      "     - -------------------------------------- 1.6/42.8 MB 1.8 MB/s eta 0:00:24\n",
      "     -- ------------------------------------- 2.1/42.8 MB 2.2 MB/s eta 0:00:19\n",
      "     -- ------------------------------------- 2.7/42.8 MB 2.7 MB/s eta 0:00:15\n",
      "     --- ------------------------------------ 3.3/42.8 MB 3.1 MB/s eta 0:00:13\n",
      "     --- ------------------------------------ 3.8/42.8 MB 3.4 MB/s eta 0:00:12\n",
      "     ---- ----------------------------------- 4.9/42.8 MB 4.3 MB/s eta 0:00:09\n",
      "     ------ --------------------------------- 6.4/42.8 MB 5.3 MB/s eta 0:00:07\n",
      "     ------ --------------------------------- 7.0/42.8 MB 5.6 MB/s eta 0:00:07\n",
      "     ------- -------------------------------- 8.1/42.8 MB 6.3 MB/s eta 0:00:06\n",
      "     -------- ------------------------------- 9.5/42.8 MB 7.2 MB/s eta 0:00:05\n",
      "     ---------- ---------------------------- 11.3/42.8 MB 18.7 MB/s eta 0:00:02\n",
      "     ----------- --------------------------- 13.1/42.8 MB 26.2 MB/s eta 0:00:02\n",
      "     ------------- ------------------------- 14.7/42.8 MB 31.2 MB/s eta 0:00:01\n",
      "     -------------- ------------------------ 15.9/42.8 MB 31.2 MB/s eta 0:00:01\n",
      "     --------------- ----------------------- 16.9/42.8 MB 29.7 MB/s eta 0:00:01\n",
      "     ----------------- --------------------- 18.8/42.8 MB 34.6 MB/s eta 0:00:01\n",
      "     ------------------ -------------------- 20.7/42.8 MB 34.4 MB/s eta 0:00:01\n",
      "     -------------------- ------------------ 22.5/42.8 MB 34.4 MB/s eta 0:00:01\n",
      "     --------------------- ----------------- 24.1/42.8 MB 34.4 MB/s eta 0:00:01\n",
      "     --------------------- ----------------- 24.1/42.8 MB 34.4 MB/s eta 0:00:01\n",
      "     --------------------- ----------------- 24.1/42.8 MB 34.4 MB/s eta 0:00:01\n",
      "     --------------------- ----------------- 24.1/42.8 MB 34.4 MB/s eta 0:00:01\n",
      "     --------------------- ----------------- 24.1/42.8 MB 34.4 MB/s eta 0:00:01\n",
      "     --------------------- ----------------- 24.1/42.8 MB 34.4 MB/s eta 0:00:01\n",
      "     --------------------- ----------------- 24.1/42.8 MB 34.4 MB/s eta 0:00:01\n",
      "     ----------------------- --------------- 26.1/42.8 MB 17.7 MB/s eta 0:00:01\n",
      "     -------------------------- ------------ 28.7/42.8 MB 19.8 MB/s eta 0:00:01\n",
      "     -------------------------- ------------ 28.7/42.8 MB 19.8 MB/s eta 0:00:01\n",
      "     -------------------------- ------------ 29.1/42.8 MB 16.4 MB/s eta 0:00:01\n",
      "     --------------------------- ----------- 30.2/42.8 MB 16.0 MB/s eta 0:00:01\n",
      "     --------------------------- ----------- 30.2/42.8 MB 16.0 MB/s eta 0:00:01\n",
      "     --------------------------- ----------- 30.2/42.8 MB 16.0 MB/s eta 0:00:01\n",
      "     --------------------------- ----------- 30.2/42.8 MB 16.0 MB/s eta 0:00:01\n",
      "     --------------------------- ----------- 30.2/42.8 MB 16.0 MB/s eta 0:00:01\n",
      "     --------------------------- ----------- 30.3/42.8 MB 11.7 MB/s eta 0:00:02\n",
      "     --------------------------- ----------- 30.5/42.8 MB 11.1 MB/s eta 0:00:02\n",
      "     ------------------------------- ------- 34.1/42.8 MB 11.5 MB/s eta 0:00:01\n",
      "     ------------------------------- ------- 34.1/42.8 MB 11.5 MB/s eta 0:00:01\n",
      "     ------------------------------- ------- 34.2/42.8 MB 10.4 MB/s eta 0:00:01\n",
      "     -------------------------------- ------ 35.9/42.8 MB 14.9 MB/s eta 0:00:01\n",
      "     ------------------------------------ -- 39.9/42.8 MB 18.7 MB/s eta 0:00:01\n",
      "     --------------------------------------  41.9/42.8 MB 43.5 MB/s eta 0:00:01\n",
      "     --------------------------------------  42.8/42.8 MB 34.4 MB/s eta 0:00:01\n",
      "     --------------------------------------  42.8/42.8 MB 34.4 MB/s eta 0:00:01\n",
      "     --------------------------------------  42.8/42.8 MB 34.4 MB/s eta 0:00:01\n",
      "     --------------------------------------  42.8/42.8 MB 34.4 MB/s eta 0:00:01\n",
      "     --------------------------------------  42.8/42.8 MB 34.4 MB/s eta 0:00:01\n",
      "     --------------------------------------- 42.8/42.8 MB 19.2 MB/s eta 0:00:00\n",
      "Requirement already satisfied: spacy<3.8.0,>=3.7.2 in c:\\users\\ishas\\anaconda3\\lib\\site-packages (from en-core-web-md==3.7.1) (3.7.4)\n",
      "Requirement already satisfied: spacy-legacy<3.1.0,>=3.0.11 in c:\\users\\ishas\\anaconda3\\lib\\site-packages (from spacy<3.8.0,>=3.7.2->en-core-web-md==3.7.1) (3.0.12)\n",
      "Requirement already satisfied: spacy-loggers<2.0.0,>=1.0.0 in c:\\users\\ishas\\anaconda3\\lib\\site-packages (from spacy<3.8.0,>=3.7.2->en-core-web-md==3.7.1) (1.0.5)\n",
      "Requirement already satisfied: murmurhash<1.1.0,>=0.28.0 in c:\\users\\ishas\\anaconda3\\lib\\site-packages (from spacy<3.8.0,>=3.7.2->en-core-web-md==3.7.1) (1.0.10)\n",
      "Requirement already satisfied: cymem<2.1.0,>=2.0.2 in c:\\users\\ishas\\anaconda3\\lib\\site-packages (from spacy<3.8.0,>=3.7.2->en-core-web-md==3.7.1) (2.0.8)\n",
      "Requirement already satisfied: preshed<3.1.0,>=3.0.2 in c:\\users\\ishas\\anaconda3\\lib\\site-packages (from spacy<3.8.0,>=3.7.2->en-core-web-md==3.7.1) (3.0.9)\n",
      "Requirement already satisfied: thinc<8.3.0,>=8.2.2 in c:\\users\\ishas\\anaconda3\\lib\\site-packages (from spacy<3.8.0,>=3.7.2->en-core-web-md==3.7.1) (8.2.3)\n",
      "Requirement already satisfied: wasabi<1.2.0,>=0.9.1 in c:\\users\\ishas\\anaconda3\\lib\\site-packages (from spacy<3.8.0,>=3.7.2->en-core-web-md==3.7.1) (1.1.2)\n",
      "Requirement already satisfied: srsly<3.0.0,>=2.4.3 in c:\\users\\ishas\\anaconda3\\lib\\site-packages (from spacy<3.8.0,>=3.7.2->en-core-web-md==3.7.1) (2.4.8)\n",
      "Requirement already satisfied: catalogue<2.1.0,>=2.0.6 in c:\\users\\ishas\\anaconda3\\lib\\site-packages (from spacy<3.8.0,>=3.7.2->en-core-web-md==3.7.1) (2.0.10)\n",
      "Requirement already satisfied: weasel<0.4.0,>=0.1.0 in c:\\users\\ishas\\anaconda3\\lib\\site-packages (from spacy<3.8.0,>=3.7.2->en-core-web-md==3.7.1) (0.3.4)\n",
      "Requirement already satisfied: typer<0.10.0,>=0.3.0 in c:\\users\\ishas\\anaconda3\\lib\\site-packages (from spacy<3.8.0,>=3.7.2->en-core-web-md==3.7.1) (0.9.4)\n",
      "Requirement already satisfied: smart-open<7.0.0,>=5.2.1 in c:\\users\\ishas\\anaconda3\\lib\\site-packages (from spacy<3.8.0,>=3.7.2->en-core-web-md==3.7.1) (5.2.1)\n",
      "Requirement already satisfied: tqdm<5.0.0,>=4.38.0 in c:\\users\\ishas\\anaconda3\\lib\\site-packages (from spacy<3.8.0,>=3.7.2->en-core-web-md==3.7.1) (4.65.0)\n",
      "Requirement already satisfied: requests<3.0.0,>=2.13.0 in c:\\users\\ishas\\anaconda3\\lib\\site-packages (from spacy<3.8.0,>=3.7.2->en-core-web-md==3.7.1) (2.31.0)\n",
      "Requirement already satisfied: pydantic!=1.8,!=1.8.1,<3.0.0,>=1.7.4 in c:\\users\\ishas\\anaconda3\\lib\\site-packages (from spacy<3.8.0,>=3.7.2->en-core-web-md==3.7.1) (1.10.8)\n",
      "Requirement already satisfied: jinja2 in c:\\users\\ishas\\anaconda3\\lib\\site-packages (from spacy<3.8.0,>=3.7.2->en-core-web-md==3.7.1) (3.1.2)\n",
      "Requirement already satisfied: setuptools in c:\\users\\ishas\\anaconda3\\lib\\site-packages (from spacy<3.8.0,>=3.7.2->en-core-web-md==3.7.1) (68.0.0)\n",
      "Requirement already satisfied: packaging>=20.0 in c:\\users\\ishas\\anaconda3\\lib\\site-packages (from spacy<3.8.0,>=3.7.2->en-core-web-md==3.7.1) (23.1)\n",
      "Requirement already satisfied: langcodes<4.0.0,>=3.2.0 in c:\\users\\ishas\\anaconda3\\lib\\site-packages (from spacy<3.8.0,>=3.7.2->en-core-web-md==3.7.1) (3.3.0)\n",
      "Requirement already satisfied: numpy>=1.19.0 in c:\\users\\ishas\\anaconda3\\lib\\site-packages (from spacy<3.8.0,>=3.7.2->en-core-web-md==3.7.1) (1.24.3)\n",
      "Requirement already satisfied: typing-extensions>=4.2.0 in c:\\users\\ishas\\anaconda3\\lib\\site-packages (from pydantic!=1.8,!=1.8.1,<3.0.0,>=1.7.4->spacy<3.8.0,>=3.7.2->en-core-web-md==3.7.1) (4.7.1)\n",
      "Requirement already satisfied: charset-normalizer<4,>=2 in c:\\users\\ishas\\anaconda3\\lib\\site-packages (from requests<3.0.0,>=2.13.0->spacy<3.8.0,>=3.7.2->en-core-web-md==3.7.1) (2.0.4)\n",
      "Requirement already satisfied: idna<4,>=2.5 in c:\\users\\ishas\\anaconda3\\lib\\site-packages (from requests<3.0.0,>=2.13.0->spacy<3.8.0,>=3.7.2->en-core-web-md==3.7.1) (2.10)\n",
      "Requirement already satisfied: urllib3<3,>=1.21.1 in c:\\users\\ishas\\anaconda3\\lib\\site-packages (from requests<3.0.0,>=2.13.0->spacy<3.8.0,>=3.7.2->en-core-web-md==3.7.1) (1.26.16)\n",
      "Requirement already satisfied: certifi>=2017.4.17 in c:\\users\\ishas\\anaconda3\\lib\\site-packages (from requests<3.0.0,>=2.13.0->spacy<3.8.0,>=3.7.2->en-core-web-md==3.7.1) (2023.7.22)\n",
      "Requirement already satisfied: blis<0.8.0,>=0.7.8 in c:\\users\\ishas\\anaconda3\\lib\\site-packages (from thinc<8.3.0,>=8.2.2->spacy<3.8.0,>=3.7.2->en-core-web-md==3.7.1) (0.7.11)\n",
      "Requirement already satisfied: confection<1.0.0,>=0.0.1 in c:\\users\\ishas\\anaconda3\\lib\\site-packages (from thinc<8.3.0,>=8.2.2->spacy<3.8.0,>=3.7.2->en-core-web-md==3.7.1) (0.1.4)\n",
      "Requirement already satisfied: colorama in c:\\users\\ishas\\anaconda3\\lib\\site-packages (from tqdm<5.0.0,>=4.38.0->spacy<3.8.0,>=3.7.2->en-core-web-md==3.7.1) (0.4.6)\n",
      "Requirement already satisfied: click<9.0.0,>=7.1.1 in c:\\users\\ishas\\anaconda3\\lib\\site-packages (from typer<0.10.0,>=0.3.0->spacy<3.8.0,>=3.7.2->en-core-web-md==3.7.1) (8.0.4)\n",
      "Requirement already satisfied: cloudpathlib<0.17.0,>=0.7.0 in c:\\users\\ishas\\anaconda3\\lib\\site-packages (from weasel<0.4.0,>=0.1.0->spacy<3.8.0,>=3.7.2->en-core-web-md==3.7.1) (0.16.0)\n",
      "Requirement already satisfied: MarkupSafe>=2.0 in c:\\users\\ishas\\anaconda3\\lib\\site-packages (from jinja2->spacy<3.8.0,>=3.7.2->en-core-web-md==3.7.1) (2.1.1)\n",
      "Installing collected packages: en-core-web-md\n",
      "Successfully installed en-core-web-md-3.7.1\n",
      "\u001b[38;5;2m[+] Download and installation successful\u001b[0m\n",
      "You can now load the package via spacy.load('en_core_web_md')\n"
     ]
    }
   ],
   "source": [
    "!python -m spacy download en_core_web_md\n"
   ]
  },
  {
   "cell_type": "code",
   "execution_count": 3,
   "id": "f0ae1a60",
   "metadata": {},
   "outputs": [],
   "source": [
    "nlp = spacy.load(\"en_core_web_md\")"
   ]
  },
  {
   "cell_type": "code",
   "execution_count": 4,
   "id": "0a00058e",
   "metadata": {},
   "outputs": [],
   "source": [
    "with open (\"wiki_us.txt\", \"r\") as f:\n",
    "    text = f.read()"
   ]
  },
  {
   "cell_type": "code",
   "execution_count": 5,
   "id": "a7fecadb",
   "metadata": {},
   "outputs": [
    {
     "name": "stdout",
     "output_type": "stream",
     "text": [
      "The United States of America (U.S.A. or USA), commonly known as the United States (U.S. or US) or America, is a country primarily located in North America.\n"
     ]
    }
   ],
   "source": [
    "doc = nlp(text)\n",
    "sentence1 = list(doc.sents)[0]\n",
    "print(sentence1)\n"
   ]
  },
  {
   "cell_type": "code",
   "execution_count": 11,
   "id": "da5ee02a",
   "metadata": {},
   "outputs": [
    {
     "name": "stdout",
     "output_type": "stream",
     "text": [
      "['country—0,467', 'nationâ\\x80\\x99s', 'countries-', 'continente', 'Carnations', 'pastille', 'бесплатно', 'Argents', 'Tywysogion', 'Teeters']\n"
     ]
    }
   ],
   "source": [
    "import numpy as np\n",
    "\n",
    "your_word = \"country\"\n",
    "ms = nlp.vocab.vectors.most_similar(np.asarray([nlp.vocab.vectors[nlp.vocab.strings[your_word]]]), n=10)\n",
    "words = [nlp.vocab.strings[w] for w in ms[0][0]]\n",
    "distances = ms[2]\n",
    "print(words)"
   ]
  },
  {
   "cell_type": "code",
   "execution_count": 13,
   "id": "2c11cdab",
   "metadata": {},
   "outputs": [],
   "source": [
    "doc1 = nlp(\"I like salty fries and hamburgers.\")\n",
    "doc2 = nlp(\"Fast food tastes very good.\")"
   ]
  },
  {
   "cell_type": "code",
   "execution_count": 15,
   "id": "0496c107",
   "metadata": {},
   "outputs": [
    {
     "name": "stdout",
     "output_type": "stream",
     "text": [
      "I like salty fries and hamburgers. <-> Fast food tastes very good. 0.691649353055761\n"
     ]
    }
   ],
   "source": [
    "print(doc1, \"<->\", doc2, doc1.similarity(doc2))\n"
   ]
  },
  {
   "cell_type": "code",
   "execution_count": 16,
   "id": "312044d1",
   "metadata": {},
   "outputs": [
    {
     "name": "stdout",
     "output_type": "stream",
     "text": [
      "I like salty fries and hamburgers. <-> Fast food tastes very good. 0.21668543421798045\n"
     ]
    }
   ],
   "source": [
    "doc3 = nlp(\"Empire state\")\n",
    "print(doc1, \"<->\", doc2, doc1.similarity(doc3))\n"
   ]
  },
  {
   "cell_type": "code",
   "execution_count": 19,
   "id": "dfd048ca",
   "metadata": {},
   "outputs": [
    {
     "data": {
      "text/plain": [
       "<spacy.pipeline.sentencizer.Sentencizer at 0x18345f7b810>"
      ]
     },
     "execution_count": 19,
     "metadata": {},
     "output_type": "execute_result"
    }
   ],
   "source": [
    "#standard pipelines\n",
    "#Tok2Vec - input layer to vectorize the input sentence\n",
    "nlp = spacy.blank(\"en\")\n",
    "nlp.add_pipe(\"sentencizer\")"
   ]
  },
  {
   "cell_type": "code",
   "execution_count": 20,
   "id": "0e174d45",
   "metadata": {},
   "outputs": [],
   "source": [
    "import requests\n",
    "from bs4 import BeautifulSoup\n",
    "s = requests.get(\"https://ocw.mit.edu/ans7870/6/6.006/s08/lecturenotes/files/t8.shakespeare.txt\")\n",
    "soup = BeautifulSoup(s.content).text.replace(\"-\\n\", \"\").replace(\"\\n\",\" \")\n",
    "nlp.max_length = 5278439                 "
   ]
  },
  {
   "cell_type": "code",
   "execution_count": 21,
   "id": "6ac28bda",
   "metadata": {},
   "outputs": [
    {
     "name": "stdout",
     "output_type": "stream",
     "text": [
      "94134\n",
      "CPU times: total: 3.53 s\n",
      "Wall time: 11.9 s\n"
     ]
    }
   ],
   "source": [
    "%%time\n",
    "doc = nlp(soup)\n",
    "print(len(list(doc.sents)))"
   ]
  },
  {
   "cell_type": "code",
   "execution_count": 22,
   "id": "b584ffd3",
   "metadata": {},
   "outputs": [
    {
     "data": {
      "text/plain": [
       "{'summary': {'sentencizer': {'assigns': ['token.is_sent_start', 'doc.sents'],\n",
       "   'requires': [],\n",
       "   'scores': ['sents_f', 'sents_p', 'sents_r'],\n",
       "   'retokenizes': False}},\n",
       " 'problems': {'sentencizer': []},\n",
       " 'attrs': {'doc.sents': {'assigns': ['sentencizer'], 'requires': []},\n",
       "  'token.is_sent_start': {'assigns': ['sentencizer'], 'requires': []}}}"
      ]
     },
     "execution_count": 22,
     "metadata": {},
     "output_type": "execute_result"
    }
   ],
   "source": [
    "#Examining a pipeline\n",
    "nlp.analyze_pipes()"
   ]
  },
  {
   "cell_type": "code",
   "execution_count": 25,
   "id": "05430139",
   "metadata": {},
   "outputs": [
    {
     "data": {
      "text/plain": [
       "{'summary': {'tok2vec': {'assigns': ['doc.tensor'],\n",
       "   'requires': [],\n",
       "   'scores': [],\n",
       "   'retokenizes': False},\n",
       "  'tagger': {'assigns': ['token.tag'],\n",
       "   'requires': [],\n",
       "   'scores': ['tag_acc'],\n",
       "   'retokenizes': False},\n",
       "  'parser': {'assigns': ['token.dep',\n",
       "    'token.head',\n",
       "    'token.is_sent_start',\n",
       "    'doc.sents'],\n",
       "   'requires': [],\n",
       "   'scores': ['dep_uas',\n",
       "    'dep_las',\n",
       "    'dep_las_per_type',\n",
       "    'sents_p',\n",
       "    'sents_r',\n",
       "    'sents_f'],\n",
       "   'retokenizes': False},\n",
       "  'attribute_ruler': {'assigns': [],\n",
       "   'requires': [],\n",
       "   'scores': [],\n",
       "   'retokenizes': False},\n",
       "  'lemmatizer': {'assigns': ['token.lemma'],\n",
       "   'requires': [],\n",
       "   'scores': ['lemma_acc'],\n",
       "   'retokenizes': False},\n",
       "  'ner': {'assigns': ['doc.ents', 'token.ent_iob', 'token.ent_type'],\n",
       "   'requires': [],\n",
       "   'scores': ['ents_f', 'ents_p', 'ents_r', 'ents_per_type'],\n",
       "   'retokenizes': False}},\n",
       " 'problems': {'tok2vec': [],\n",
       "  'tagger': [],\n",
       "  'parser': [],\n",
       "  'attribute_ruler': [],\n",
       "  'lemmatizer': [],\n",
       "  'ner': []},\n",
       " 'attrs': {'doc.sents': {'assigns': ['parser'], 'requires': []},\n",
       "  'token.ent_type': {'assigns': ['ner'], 'requires': []},\n",
       "  'token.dep': {'assigns': ['parser'], 'requires': []},\n",
       "  'token.ent_iob': {'assigns': ['ner'], 'requires': []},\n",
       "  'token.head': {'assigns': ['parser'], 'requires': []},\n",
       "  'token.is_sent_start': {'assigns': ['parser'], 'requires': []},\n",
       "  'token.lemma': {'assigns': ['lemmatizer'], 'requires': []},\n",
       "  'doc.ents': {'assigns': ['ner'], 'requires': []},\n",
       "  'token.tag': {'assigns': ['tagger'], 'requires': []},\n",
       "  'doc.tensor': {'assigns': ['tok2vec'], 'requires': []}}}"
      ]
     },
     "execution_count": 25,
     "metadata": {},
     "output_type": "execute_result"
    }
   ],
   "source": [
    "nlp2.analyze_pipes()"
   ]
  }
 ],
 "metadata": {
  "kernelspec": {
   "display_name": "Python 3 (ipykernel)",
   "language": "python",
   "name": "python3"
  },
  "language_info": {
   "codemirror_mode": {
    "name": "ipython",
    "version": 3
   },
   "file_extension": ".py",
   "mimetype": "text/x-python",
   "name": "python",
   "nbconvert_exporter": "python",
   "pygments_lexer": "ipython3",
   "version": "3.11.5"
  }
 },
 "nbformat": 4,
 "nbformat_minor": 5
}
